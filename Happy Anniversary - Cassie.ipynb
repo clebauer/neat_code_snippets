{
 "cells": [
  {
   "cell_type": "code",
   "execution_count": null,
   "metadata": {},
   "outputs": [],
   "source": []
  },
  {
   "cell_type": "code",
   "execution_count": 19,
   "metadata": {},
   "outputs": [],
   "source": [
    "def ciph(string):\n",
    "    return ''.join([c[1] + c[0] for c in zip(string[::2], string[1::2])])"
   ]
  },
  {
   "cell_type": "code",
   "execution_count": 22,
   "metadata": {},
   "outputs": [],
   "source": [
    "string = 'veremymoneetevtnohguihnkwoewowtnlaawsyebbaelothsraaeebtdgoteehirtslihlvayeuoawctihgnvoreemymitynugraidnaohdlysuonrxegtfiatdnoyruhtricdpiehcrehkcymormo'"
   ]
  },
  {
   "cell_type": "code",
   "execution_count": 23,
   "metadata": {},
   "outputs": [
    {
     "data": {
      "text/plain": [
       "'everymomenteventhoughiknowwewontalwaysbeabletoshareabedtogetheristillhaveyouwatchingovermemytinyguardianholdsyournextgiftandyourthirdciphercheckmyroom'"
      ]
     },
     "execution_count": 23,
     "metadata": {},
     "output_type": "execute_result"
    }
   ],
   "source": [
    "ciph(string)"
   ]
  },
  {
   "cell_type": "code",
   "execution_count": null,
   "metadata": {},
   "outputs": [],
   "source": [
    "\n",
    "\n",
    "\n",
    "\n",
    "\n",
    "\n"
   ]
  },
  {
   "cell_type": "code",
   "execution_count": null,
   "metadata": {},
   "outputs": [],
   "source": [
    "#music cipher so I can write it out in \"bass clef\" and have it convert overrrr"
   ]
  },
  {
   "cell_type": "code",
   "execution_count": 266,
   "metadata": {},
   "outputs": [],
   "source": [
    "import pandas as pd\n",
    "convert_df = pd.DataFrame(data={'treble':list('ABCDEFG'),'bass':list('CDEFGAB'),'num':[0, 1, 2, 3, 4, 5, 6]})\n",
    "vals_df = pd.DataFrame(data={'W':list('ABCDEFG'),'H':list('HIJKLMN'), 'Q':list('OPQRSTU'), 'E':list('VWXYZ  ')})"
   ]
  },
  {
   "cell_type": "code",
   "execution_count": 267,
   "metadata": {},
   "outputs": [
    {
     "data": {
      "text/html": [
       "<div style=\"max-height:1000px;max-width:1500px;overflow:auto;\">\n",
       "<table border=\"1\" class=\"dataframe\">\n",
       "  <thead>\n",
       "    <tr style=\"text-align: right;\">\n",
       "      <th></th>\n",
       "      <th>E</th>\n",
       "      <th>H</th>\n",
       "      <th>Q</th>\n",
       "      <th>W</th>\n",
       "    </tr>\n",
       "  </thead>\n",
       "  <tbody>\n",
       "    <tr>\n",
       "      <th>0</th>\n",
       "      <td> V</td>\n",
       "      <td> H</td>\n",
       "      <td> O</td>\n",
       "      <td> A</td>\n",
       "    </tr>\n",
       "    <tr>\n",
       "      <th>1</th>\n",
       "      <td> W</td>\n",
       "      <td> I</td>\n",
       "      <td> P</td>\n",
       "      <td> B</td>\n",
       "    </tr>\n",
       "    <tr>\n",
       "      <th>2</th>\n",
       "      <td> X</td>\n",
       "      <td> J</td>\n",
       "      <td> Q</td>\n",
       "      <td> C</td>\n",
       "    </tr>\n",
       "    <tr>\n",
       "      <th>3</th>\n",
       "      <td> Y</td>\n",
       "      <td> K</td>\n",
       "      <td> R</td>\n",
       "      <td> D</td>\n",
       "    </tr>\n",
       "    <tr>\n",
       "      <th>4</th>\n",
       "      <td> Z</td>\n",
       "      <td> L</td>\n",
       "      <td> S</td>\n",
       "      <td> E</td>\n",
       "    </tr>\n",
       "    <tr>\n",
       "      <th>5</th>\n",
       "      <td>  </td>\n",
       "      <td> M</td>\n",
       "      <td> T</td>\n",
       "      <td> F</td>\n",
       "    </tr>\n",
       "    <tr>\n",
       "      <th>6</th>\n",
       "      <td>  </td>\n",
       "      <td> N</td>\n",
       "      <td> U</td>\n",
       "      <td> G</td>\n",
       "    </tr>\n",
       "  </tbody>\n",
       "</table>\n",
       "</div>"
      ],
      "text/plain": [
       "   E  H  Q  W\n",
       "0  V  H  O  A\n",
       "1  W  I  P  B\n",
       "2  X  J  Q  C\n",
       "3  Y  K  R  D\n",
       "4  Z  L  S  E\n",
       "5     M  T  F\n",
       "6     N  U  G"
      ]
     },
     "execution_count": 267,
     "metadata": {},
     "output_type": "execute_result"
    }
   ],
   "source": [
    "vals_df"
   ]
  },
  {
   "cell_type": "code",
   "execution_count": 264,
   "metadata": {},
   "outputs": [
    {
     "data": {
      "text/html": [
       "<div style=\"max-height:1000px;max-width:1500px;overflow:auto;\">\n",
       "<table border=\"1\" class=\"dataframe\">\n",
       "  <thead>\n",
       "    <tr style=\"text-align: right;\">\n",
       "      <th></th>\n",
       "      <th>bass</th>\n",
       "      <th>num</th>\n",
       "      <th>treble</th>\n",
       "    </tr>\n",
       "  </thead>\n",
       "  <tbody>\n",
       "    <tr>\n",
       "      <th>0</th>\n",
       "      <td> C</td>\n",
       "      <td> 0</td>\n",
       "      <td> A</td>\n",
       "    </tr>\n",
       "    <tr>\n",
       "      <th>1</th>\n",
       "      <td> D</td>\n",
       "      <td> 1</td>\n",
       "      <td> B</td>\n",
       "    </tr>\n",
       "    <tr>\n",
       "      <th>2</th>\n",
       "      <td> E</td>\n",
       "      <td> 2</td>\n",
       "      <td> C</td>\n",
       "    </tr>\n",
       "    <tr>\n",
       "      <th>3</th>\n",
       "      <td> F</td>\n",
       "      <td> 3</td>\n",
       "      <td> D</td>\n",
       "    </tr>\n",
       "    <tr>\n",
       "      <th>4</th>\n",
       "      <td> G</td>\n",
       "      <td> 4</td>\n",
       "      <td> E</td>\n",
       "    </tr>\n",
       "    <tr>\n",
       "      <th>5</th>\n",
       "      <td> A</td>\n",
       "      <td> 5</td>\n",
       "      <td> F</td>\n",
       "    </tr>\n",
       "    <tr>\n",
       "      <th>6</th>\n",
       "      <td> B</td>\n",
       "      <td> 6</td>\n",
       "      <td> G</td>\n",
       "    </tr>\n",
       "  </tbody>\n",
       "</table>\n",
       "</div>"
      ],
      "text/plain": [
       "  bass  num treble\n",
       "0    C    0      A\n",
       "1    D    1      B\n",
       "2    E    2      C\n",
       "3    F    3      D\n",
       "4    G    4      E\n",
       "5    A    5      F\n",
       "6    B    6      G"
      ]
     },
     "execution_count": 264,
     "metadata": {},
     "output_type": "execute_result"
    }
   ],
   "source": [
    "convert_df"
   ]
  },
  {
   "cell_type": "code",
   "execution_count": 281,
   "metadata": {},
   "outputs": [
    {
     "data": {
      "text/plain": [
       "'Y'"
      ]
     },
     "execution_count": 281,
     "metadata": {},
     "output_type": "execute_result"
    }
   ],
   "source": [
    "vals_df['E'][3]"
   ]
  },
  {
   "cell_type": "code",
   "execution_count": 103,
   "metadata": {},
   "outputs": [
    {
     "name": "stdout",
     "output_type": "stream",
     "text": [
      "\n"
     ]
    }
   ],
   "source": [
    "def solve_music(string):\n",
    "    final_msg = ''\n",
    "    for x in string.upper().split():\n",
    "        note_len = x[0]\n",
    "        treb_val = convert_df[convert_df['bass'] == x[1]]['num'].values[0]\n",
    "        final_msg += vals_df.loc[treb_val,note_len]\n",
    "    return final_msg\n",
    "    "
   ]
  },
  {
   "cell_type": "code",
   "execution_count": 292,
   "metadata": {},
   "outputs": [
    {
     "data": {
      "text/plain": [
       "'ef qc qb qf wc wf ec wg hb qa qb qf wg qa qc wf wc ef wc hb wf wd we wc hb hb qc qa ed wc hd qa qa qc'"
      ]
     },
     "execution_count": 292,
     "metadata": {},
     "output_type": "execute_result"
    }
   ],
   "source": []
  },
  {
   "cell_type": "code",
   "execution_count": 187,
   "metadata": {},
   "outputs": [],
   "source": [
    "part1 = 'ef qc qb wc qf wg wd qf hd hg hg hd wc hb qa'\n",
    "part2 = 'hd hc qc qd wg ef qc qb hf hb qc ed qa hc wc qa'\n",
    "part3 = 'wg ec wg qf ef wf wc ef hd qg qd wg hb wf ed hd qa hc ef qc qb'\n",
    "part4 = 'hd qg wc hb qc qa hc wg qf hb qc qa wg hd hb qc qb qf qg ef ha qd hc qc hb ef'\n",
    "part5 = 'ef qc qb wc qf wg wb hg ha qc qg qa wb qa qa hb wg wg hb wf qc wa'\n",
    "part6_a = 'e q q q w w e w h q q q w q q w w e w h w w w w h h q q e w h q q q'\n",
    "part6_b = 'f c b f c f c g b a b f g a c f c f c b f d e c b b c a d c d a a c'\n",
    "part7_a = 'q w w e q q q w w w w'\n",
    "part7_b = 'g g g f c b f a c e g'"
   ]
  },
  {
   "cell_type": "code",
   "execution_count": null,
   "metadata": {},
   "outputs": [],
   "source": [
    "def merge_em(lista, listb):\n",
    "    return ' '.join([''.join(x) for x in zip(lista.split(' '), listb.split(' '))])"
   ]
  },
  {
   "cell_type": "code",
   "execution_count": 202,
   "metadata": {},
   "outputs": [
    {
     "name": "stdout",
     "output_type": "stream",
     "text": [
      "YOUAREBRILLIANT IHOPEYOUKNOWTHAT\n"
     ]
    }
   ],
   "source": [
    "print solve_music(part1), solve_music(part2)"
   ]
  },
  {
   "cell_type": "code",
   "execution_count": 203,
   "metadata": {},
   "outputs": [
    {
     "name": "stdout",
     "output_type": "stream",
     "text": [
      "EVERYDAYISPENDWITHYOU ISANOTHERNOTEINOURSYMPHONY\n"
     ]
    }
   ],
   "source": [
    "print solve_music(part3), solve_music(part4)"
   ]
  },
  {
   "cell_type": "code",
   "execution_count": 204,
   "metadata": {},
   "outputs": [
    {
     "name": "stdout",
     "output_type": "stream",
     "text": [
      "YOUAREGLMOSTGTTNEENDOF\n"
     ]
    }
   ],
   "source": [
    "print solve_music(part5)"
   ]
  },
  {
   "cell_type": "code",
   "execution_count": 205,
   "metadata": {},
   "outputs": [
    {
     "name": "stdout",
     "output_type": "stream",
     "text": [
      "YOURADVENTURETODAYANDBCANNOTWAITTO\n"
     ]
    }
   ],
   "source": [
    "print solve_music(merge_em(part6_a, part6_b))"
   ]
  },
  {
   "cell_type": "code",
   "execution_count": 206,
   "metadata": {},
   "outputs": [
    {
     "name": "stdout",
     "output_type": "stream",
     "text": [
      "SEEYOURFACE\n"
     ]
    }
   ],
   "source": [
    "print solve_music(merge_em(part7_a, part7_b))"
   ]
  },
  {
   "cell_type": "code",
   "execution_count": 207,
   "metadata": {},
   "outputs": [
    {
     "name": "stdout",
     "output_type": "stream",
     "text": [
      "YOURFINALCIPHERIS\n"
     ]
    }
   ],
   "source": [
    "part8_a = 'e q q q w h h w h w h q h w q h q'\n",
    "part8_b = 'f c b f a d b c g e d d c g f d g'\n",
    "\n",
    "print solve_music(merge_em(part8_a, part8_b))"
   ]
  },
  {
   "cell_type": "code",
   "execution_count": 208,
   "metadata": {},
   "outputs": [
    {
     "name": "stdout",
     "output_type": "stream",
     "text": [
      "TOUGHANDIAMSUREYOUHAVEWORKEDUPA\n"
     ]
    }
   ],
   "source": [
    "part9_a = 'q q q w h w h w h w h q q q w e q q h w e w e q q h w w q q w'\n",
    "part9_b = 'a c b b c c b f d c a g b f g f c b c c c g d c f f g f b d c'\n",
    "print solve_music(merge_em(part9_a, part9_b))"
   ]
  },
  {
   "cell_type": "code",
   "execution_count": 211,
   "metadata": {},
   "outputs": [
    {
     "name": "stdout",
     "output_type": "stream",
     "text": [
      "SWEATALREADYYOUWILLFINDTHEFINAM\n"
     ]
    }
   ],
   "source": [
    "part10_a = 'q e w w q w h q w w w e e q q e h h h w h h w q h w w h h w h'\n",
    "part10_b = 'g d g c a c g f g c f f f c b d d g g a d b f a c g a d b c a'\n",
    "print solve_music(merge_em(part10_a, part10_b))"
   ]
  },
  {
   "cell_type": "code",
   "execution_count": 212,
   "metadata": {},
   "outputs": [
    {
     "name": "stdout",
     "output_type": "stream",
     "text": [
      "CIPHERANDACHANEOFCLOTHESINYOUR\n"
     ]
    }
   ],
   "source": [
    "part11_a = 'w h q h w q w h w w w h w h w q w w h q q h w q h h e q q q'\n",
    "part11_b = 'e d d c g f c b f c e c c b g c a e g c a c g g d b f c b f'\n",
    "print solve_music(merge_em(part11_a, part11_b))"
   ]
  },
  {
   "cell_type": "code",
   "execution_count": 215,
   "metadata": {},
   "outputs": [
    {
     "name": "stdout",
     "output_type": "stream",
     "text": [
      "SHIRTDRAWERILOVEYOU\n"
     ]
    }
   ],
   "source": [
    "part12_a = 'q h h q q w q w e w q h h q e w e q q'\n",
    "part12_b = 'g c d f a f f c d g f d g c c g f c b'\n",
    "print solve_music(merge_em(part12_a, part12_b))"
   ]
  },
  {
   "cell_type": "code",
   "execution_count": 297,
   "metadata": {},
   "outputs": [
    {
     "data": {
      "text/plain": [
       "'A'"
      ]
     },
     "execution_count": 297,
     "metadata": {},
     "output_type": "execute_result"
    }
   ],
   "source": [
    "chr(65)"
   ]
  },
  {
   "cell_type": "code",
   "execution_count": 298,
   "metadata": {},
   "outputs": [],
   "source": [
    "x = [5, 17, 15, 14]"
   ]
  },
  {
   "cell_type": "code",
   "execution_count": 302,
   "metadata": {},
   "outputs": [],
   "source": [
    "from string import ascii_lowercase\n",
    "LETTERS = {index: letter for index, letter in enumerate(ascii_lowercase, start=0)} \n"
   ]
  },
  {
   "cell_type": "code",
   "execution_count": 253,
   "metadata": {},
   "outputs": [],
   "source": [
    "nums = [5, 17, 15, 14, 20, 8, 21, 23]"
   ]
  },
  {
   "cell_type": "code",
   "execution_count": 262,
   "metadata": {},
   "outputs": [],
   "source": [
    "def caesar(num):\n",
    "    return LETTERS[((num-1)+6)%26]"
   ]
  },
  {
   "cell_type": "code",
   "execution_count": 263,
   "metadata": {},
   "outputs": [
    {
     "name": "stdout",
     "output_type": "stream",
     "text": [
      "k\n",
      "w\n",
      "u\n",
      "t\n",
      "z\n",
      "n\n",
      "a\n",
      "c\n"
     ]
    },
    {
     "data": {
      "text/plain": [
       "[None, None, None, None, None, None, None, None]"
      ]
     },
     "execution_count": 263,
     "metadata": {},
     "output_type": "execute_result"
    }
   ],
   "source": [
    "[caesar(x) for x in nums]"
   ]
  },
  {
   "cell_type": "code",
   "execution_count": null,
   "metadata": {},
   "outputs": [],
   "source": [
    "25-1 = 24 + 6 = 30 % 26"
   ]
  },
  {
   "cell_type": "code",
   "execution_count": 261,
   "metadata": {},
   "outputs": [
    {
     "name": "stdout",
     "output_type": "stream",
     "text": [
      "eqonthuw\n",
      "frpouivx\n",
      "gsqpvjwy\n",
      "htrqwkxz\n",
      "iusrxlya\n",
      "jvtsymzb\n",
      "kwutznac\n",
      "lxvuaobd\n",
      "mywvbpce\n",
      "nzxwcqdf\n",
      "oayxdreg\n",
      "pbzyesfh\n",
      "qcazftgi\n",
      "rdbaguhj\n",
      "secbhvik\n",
      "tfdciwjl\n",
      "ugedjxkm\n",
      "vhfekyln\n",
      "wigflzmo\n",
      "xjhgmanp\n",
      "ykihnboq\n",
      "zljiocpr\n",
      "amkjpdqs\n",
      "bnlkqert\n",
      "comlrfsu\n"
     ]
    }
   ],
   "source": [
    "for n in range(0,25):\n",
    "    print ''.join([LETTERS[((x-1+n)%26)] for x in nums])"
   ]
  },
  {
   "cell_type": "code",
   "execution_count": null,
   "metadata": {},
   "outputs": [],
   "source": [
    "8 - t\n",
    "9 -\n",
    "10 s\n",
    "11 r\n",
    "12 q\n",
    "13 p\n",
    "14 o"
   ]
  },
  {
   "cell_type": "code",
   "execution_count": null,
   "metadata": {},
   "outputs": [],
   "source": []
  }
 ],
 "metadata": {
  "kernelspec": {
   "display_name": "Python 2",
   "language": "python",
   "name": "python2"
  },
  "language_info": {
   "codemirror_mode": {
    "name": "ipython",
    "version": 2
   },
   "file_extension": ".py",
   "mimetype": "text/x-python",
   "name": "python",
   "nbconvert_exporter": "python",
   "pygments_lexer": "ipython2",
   "version": "2.7.10"
  }
 },
 "nbformat": 4,
 "nbformat_minor": 2
}
