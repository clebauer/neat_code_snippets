{
 "cells": [
  {
   "cell_type": "code",
   "execution_count": 61,
   "metadata": {},
   "outputs": [],
   "source": [
    "how_far = 'Close' #one of:Close,Medium,Far\n",
    "last_visited = 'Spice Grill'\n",
    "meal_or_coffee = 'Meal' #one of:Meal,Coffee"
   ]
  },
  {
   "cell_type": "code",
   "execution_count": null,
   "metadata": {},
   "outputs": [],
   "source": [
    "# Average Price\n",
    "# Weather (api)"
   ]
  },
  {
   "cell_type": "code",
   "execution_count": 62,
   "metadata": {},
   "outputs": [],
   "source": [
    "%reload_ext ishbook\n",
    "import plus\n",
    "import numpy as np"
   ]
  },
  {
   "cell_type": "code",
   "execution_count": 63,
   "metadata": {},
   "outputs": [],
   "source": [
    "distances={'Close':5,\n",
    "           'Medium':8,\n",
    "           'Far':12,\n",
    "           'Delivery':50}\n",
    "max_distance = distances[how_far]"
   ]
  },
  {
   "cell_type": "code",
   "execution_count": 64,
   "metadata": {},
   "outputs": [],
   "source": [
    "restaurants = plus.read_google_sheet('1YlEzb_d_QMovilUuf9QnPq5G203NHI2UO5htMiAe7tQ', 'key', header=True, index=False)\n",
    "restaurants['total distance'] = restaurants['total distance'].astype(float)\n",
    "results = restaurants[(restaurants['Type']==meal_or_coffee) & (restaurants['total distance']<=float(max_distance))&(restaurants['Restaurant']!=last_visited)].reset_index(drop=True)\n"
   ]
  },
  {
   "cell_type": "code",
   "execution_count": 72,
   "metadata": {
    "scrolled": true
   },
   "outputs": [
    {
     "name": "stdout",
     "output_type": "stream",
     "text": [
      "  Restaurant Cuisine Blocks  Aves  Type  total distance\n",
      "1  Kati Roll  Indian      4  0.33  Meal            4.99\n"
     ]
    }
   ],
   "source": [
    "choice = np.random.randint(len(results))\n",
    "\n",
    "print results.iloc[choice:(choice+1)] "
   ]
  },
  {
   "cell_type": "code",
   "execution_count": null,
   "metadata": {},
   "outputs": [],
   "source": []
  }
 ],
 "metadata": {
  "kernelspec": {
   "display_name": "Python 2",
   "language": "python",
   "name": "python2"
  },
  "language_info": {
   "codemirror_mode": {
    "name": "ipython",
    "version": 2
   },
   "file_extension": ".py",
   "mimetype": "text/x-python",
   "name": "python",
   "nbconvert_exporter": "python",
   "pygments_lexer": "ipython2",
   "version": "2.7.10"
  }
 },
 "nbformat": 4,
 "nbformat_minor": 2
}
