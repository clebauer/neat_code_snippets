{
 "cells": [
  {
   "cell_type": "code",
   "execution_count": 49,
   "metadata": {},
   "outputs": [],
   "source": [
    "num_repeats = 5"
   ]
  },
  {
   "cell_type": "code",
   "execution_count": 50,
   "metadata": {},
   "outputs": [],
   "source": [
    "# Manual Data Input\n",
    "# all even rows are purled, so duplicate the row before.\n",
    "# intro, odd rows, done once\n",
    "chart1 = [7, 11, 15, 19, 23, 27, 31, 31, 35, 39, 43, 47, 51, 59, 55, 59, 63, 67, 71, 75, 87]\n",
    "\n",
    "# chart 1 repeats, these are the counts of the odd rows for the first two repeats.\n",
    "# all repeats going forward increment with j-i for i,j in chart1_1, chart1_2\n",
    "chart1_1 = [79,83,87,91,95,99,115]\n",
    "chart1_2 = [103,107,111,115,119,123,143]\n",
    "\n",
    "# chart 2, these are the counts of the odd rows for the first two EXAMPLES of chart 2\n",
    "# here, we only need the row numbers *for the nth repeat*, but we need the first two to get\n",
    "# the amount to increment by to get there.\n",
    "chart2_1 = [127,131,135,139,143,147,171,195,219,249,267,291,315,317,319,321,323,325,327,329,331,333,335,337,339,341,367]\n",
    "chart2_2 = [151,155,159,163,167,171,199,227,255,283,311,339,367,369,371,373,375,377,379,381,383,385,387,389,397,393,423]"
   ]
  },
  {
   "cell_type": "code",
   "execution_count": 51,
   "metadata": {},
   "outputs": [],
   "source": [
    "# Calculate chart_diffs\n",
    "chart1_diff = [j-i for i, j in zip(chart1_1, chart1_2)] \n",
    "chart2_diff = [j-i for i, j in zip(chart2_1, chart2_2)] "
   ]
  },
  {
   "cell_type": "code",
   "execution_count": 52,
   "metadata": {},
   "outputs": [],
   "source": [
    "# For now, 'manually' calculate stitch counts for chart 1 repeats\n",
    "chart1_3 = [i+j for i,j in zip(chart1_2,chart1_diff)]\n",
    "chart1_4 = [i+j for i,j in zip(chart1_3,chart1_diff)]\n",
    "chart1_5 = [i+j for i,j in zip(chart1_4,chart1_diff)]"
   ]
  },
  {
   "cell_type": "code",
   "execution_count": 53,
   "metadata": {},
   "outputs": [],
   "source": [
    "# calculate chart 2 stitch count\n",
    "chart_2_use = [i+(num_repeats*j-1) for i,j in zip(chart2_1, chart2_diff)]"
   ]
  },
  {
   "cell_type": "code",
   "execution_count": 54,
   "metadata": {},
   "outputs": [],
   "source": [
    "# place all rows together\n",
    "charts = chart1 + chart1_1 + chart1_2 + chart1_3 + chart1_4 + chart1_5 + chart_2_use"
   ]
  },
  {
   "cell_type": "code",
   "execution_count": 55,
   "metadata": {},
   "outputs": [],
   "source": [
    "charts_use = [val for val in charts for _ in (0, 1)] + [max(chart_2_use)]"
   ]
  },
  {
   "cell_type": "code",
   "execution_count": 59,
   "metadata": {},
   "outputs": [
    {
     "name": "stdout",
     "output_type": "stream",
     "text": [
      "If you're on row 37 (with 5 intended repeats),\n",
      "you've knitted 1435 stitches, \n",
      "you're 3.75% completed with the project,\n",
      "and you have 130 more rows to go with 36823 stitches!\n",
      "\n",
      "Oh, and your next row only has 75 stitches. You got this!\n"
     ]
    }
   ],
   "source": [
    "total = sum(charts_use)\n",
    "row_im_on = 37\n",
    "total_stitches = sum(charts_use[0:row_im_on])\n",
    "rows_left = len(charts_use) - row_im_on\n",
    "stitches_left = total - total_stitches\n",
    "percent_done = round(total_stitches*100.0 / total, 2)\n",
    "print '''If you're on row {} (with {} intended repeats),\n",
    "you've knitted {} stitches, \n",
    "you're {}% completed with the project,\n",
    "and you have {} more rows to go with {} stitches!\n",
    "\n",
    "Oh, and your next row only has {} stitches. You got this!'''.format(row_im_on,\n",
    "                                                                    num_repeats,\n",
    "                                                                    total_stitches,\n",
    "                                                                    percent_done,\n",
    "                                                                    rows_left,\n",
    "                                                                    stitches_left,\n",
    "                                                                    charts_use[row_im_on+1])"
   ]
  },
  {
   "cell_type": "code",
   "execution_count": 14,
   "metadata": {
    "collapsed": true
   },
   "outputs": [
    {
     "ename": "NameError",
     "evalue": "name 'x' is not defined",
     "output_type": "error",
     "traceback": [
      "\u001b[0;31m---------------------------------------------------------------------------\u001b[0m",
      "\u001b[0;31mNameError\u001b[0m                                 Traceback (most recent call last)",
      "\u001b[0;32m<ipython-input-14-4f1eb9d0b86b>\u001b[0m in \u001b[0;36m<module>\u001b[0;34m()\u001b[0m\n\u001b[0;32m----> 1\u001b[0;31m \u001b[0mpart_1\u001b[0m \u001b[0;34m=\u001b[0m \u001b[0msum\u001b[0m\u001b[0;34m(\u001b[0m\u001b[0mx\u001b[0m\u001b[0;34m*\u001b[0m\u001b[0;36m2\u001b[0m\u001b[0;34m)\u001b[0m \u001b[0;31m#first 42 rows\u001b[0m\u001b[0;34m\u001b[0m\u001b[0m\n\u001b[0m\u001b[1;32m      2\u001b[0m \u001b[0mpart_2\u001b[0m \u001b[0;34m=\u001b[0m \u001b[0msum\u001b[0m\u001b[0;34m(\u001b[0m\u001b[0ma1\u001b[0m\u001b[0;34m*\u001b[0m\u001b[0;36m2\u001b[0m\u001b[0;34m)\u001b[0m \u001b[0;34m+\u001b[0m \u001b[0msum\u001b[0m\u001b[0;34m(\u001b[0m\u001b[0ma2\u001b[0m\u001b[0;34m*\u001b[0m\u001b[0;36m2\u001b[0m\u001b[0;34m)\u001b[0m \u001b[0;34m+\u001b[0m \u001b[0msum\u001b[0m\u001b[0;34m(\u001b[0m\u001b[0ma3\u001b[0m\u001b[0;34m*\u001b[0m\u001b[0;36m2\u001b[0m\u001b[0;34m)\u001b[0m \u001b[0;34m+\u001b[0m \u001b[0msum\u001b[0m\u001b[0;34m(\u001b[0m\u001b[0ma4\u001b[0m\u001b[0;34m*\u001b[0m\u001b[0;36m2\u001b[0m\u001b[0;34m)\u001b[0m \u001b[0;34m+\u001b[0m \u001b[0msum\u001b[0m\u001b[0;34m(\u001b[0m\u001b[0ma5\u001b[0m\u001b[0;34m*\u001b[0m\u001b[0;36m2\u001b[0m\u001b[0;34m)\u001b[0m \u001b[0;31m#chart 1, 5 repeats\u001b[0m\u001b[0;34m\u001b[0m\u001b[0m\n\u001b[1;32m      3\u001b[0m \u001b[0mpart_3\u001b[0m \u001b[0;34m=\u001b[0m \u001b[0msum\u001b[0m\u001b[0;34m(\u001b[0m\u001b[0my5\u001b[0m\u001b[0;34m*\u001b[0m\u001b[0;36m2\u001b[0m\u001b[0;34m)\u001b[0m \u001b[0;34m+\u001b[0m \u001b[0mmax\u001b[0m\u001b[0;34m(\u001b[0m\u001b[0my5\u001b[0m\u001b[0;34m)\u001b[0m \u001b[0;31m#chart 2 5 repeats\u001b[0m\u001b[0;34m\u001b[0m\u001b[0m\n\u001b[1;32m      4\u001b[0m \u001b[0;34m\u001b[0m\u001b[0m\n\u001b[1;32m      5\u001b[0m \u001b[0mpart_1\u001b[0m\u001b[0;34m+\u001b[0m\u001b[0mpart_2\u001b[0m\u001b[0;34m+\u001b[0m\u001b[0mpart_3\u001b[0m\u001b[0;34m\u001b[0m\u001b[0m\n",
      "\u001b[0;31mNameError\u001b[0m: name 'x' is not defined"
     ]
    }
   ],
   "source": [
    "part_1 = sum(x*2) #first 42 rows\n",
    "part_2 = sum(a1*2) + sum(a2*2) + sum(a3*2) + sum(a4*2) + sum(a5*2) #chart 1, 5 repeats\n",
    "part_3 = sum(y5*2) + max(y5) #chart 2 5 repeats\n",
    "\n",
    "part_1+part_2+part_3"
   ]
  },
  {
   "cell_type": "code",
   "execution_count": null,
   "metadata": {},
   "outputs": [],
   "source": []
  }
 ],
 "metadata": {
  "kernelspec": {
   "display_name": "Python 2",
   "language": "python",
   "name": "python2"
  },
  "language_info": {
   "codemirror_mode": {
    "name": "ipython",
    "version": 2
   },
   "file_extension": ".py",
   "mimetype": "text/x-python",
   "name": "python",
   "nbconvert_exporter": "python",
   "pygments_lexer": "ipython2",
   "version": "2.7.10"
  }
 },
 "nbformat": 4,
 "nbformat_minor": 2
}
